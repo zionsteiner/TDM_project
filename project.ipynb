{
 "cells": [
  {
   "cell_type": "markdown",
   "source": [
    "# Unsupervised Timeseries Representations\n",
    "## Goal\n",
    "Explore the extent of representation transferability allowed\n",
    "by the algorithm described in [Unsupervised Scalable Representation Learning for Multivariate Time Series](https://arxiv.org/abs/1901.10738).\n",
    "\n",
    "* Compare the transferability of representations learned using TimeNet and the convolutional architecture.\n",
    "* Measure info change as output sequence length decreases, compare to principal components\n",
    "* Introduce measure/standard testing procedure for transferability\n",
    "\n",
    "## Method\n",
    "1. Divide UCR timeseries dataset\n",
    "    * Subset for learning representations\n",
    "    * Subset for SVM classification\n",
    "2. Train encoder network(s) on dataset to learn representations\n",
    "3. Generate representations for classification dataset\n",
    "4. Train and test SVM on classification dataset representations\n",
    "   * Test on representation dataset\n",
    "   * Test on different dataset\n",
    "5. Compare with TimeNet if time\n",
    "\n",
    "The dataset curation method is the focus of this research. We will test the transferability of\n",
    "representations learned from two independent variables:\n",
    "* dataset size\n",
    "* dataset diversity\n",
    "\n",
    "How to implement triplet loss? Find triplets\n",
    "\n",
    "### Background\n",
    "Info to include:\n",
    "* Timeseries intro\n",
    "* UCR dataset\n",
    "* Concept and benefits of representations\n",
    "* Encoder architecture\n",
    "* Transfer ability\n",
    "* What algo devs did to test transferability and how this extends that"
   ],
   "metadata": {
    "collapsed": false
   }
  },
  {
   "cell_type": "code",
   "execution_count": 4,
   "outputs": [],
   "source": [
    "# Imports\n",
    "import pandas as pd\n",
    "import numpy as np\n",
    "import matrixprofile as mp\n",
    "import matplotlib.pyplot as plt\n",
    "import seaborn as sns\n",
    "import keras\n",
    "from keras import layers, models\n",
    "from keras.utils import Sequence\n",
    "import keras.backend as K\n",
    "import tensorflow as tf\n",
    "import tensorflow_addons as tfa\n",
    "import uea_ucr_datasets as archive\n",
    "import sktime\n",
    "from functools import partial\n",
    "\n",
    "import sys\n",
    "sys.path.insert(1, '../UnsupervisedScalableRepresentationLearningTimeSeries/')\n",
    "from scikit_wrappers import CausalCNNEncoderClassifier"
   ],
   "metadata": {
    "collapsed": false,
    "pycharm": {
     "name": "#%%\n"
    }
   }
  },
  {
   "cell_type": "code",
   "execution_count": 5,
   "outputs": [],
   "source": [
    "# Load data\n",
    "catalogue = archive.list_datasets()\n",
    "\n",
    "d = archive.Dataset(catalogue[0])\n",
    "X = []\n",
    "for x in d:\n",
    "    X.append(x[0])\n",
    "X = np.array(X)\n",
    "\n",
    "\n",
    "def standardize(X):\n",
    "    mean = np.nanmean(X)\n",
    "    std = np.sqrt(np.nanvar(X))\n",
    "\n",
    "    for sample in X:\n",
    "        sample = (sample - mean) / std\n",
    "\n",
    "    return X"
   ],
   "metadata": {
    "collapsed": false,
    "pycharm": {
     "name": "#%%\n"
    }
   }
  },
  {
   "cell_type": "code",
   "execution_count": null,
   "outputs": [],
   "source": [
    "# CNN Encoder\n",
    "X = standardize(X)\n",
    "\n",
    "cnn_encoder = CausalCNNEncoderClassifier(nb_random_samples=5,\n",
    "                                         depth=10,\n",
    "                                         channels=40,\n",
    "                                         out_channels=320,\n",
    "                                         kernel_size=3,\n",
    "                                         cuda=True)\n",
    "\n",
    "cnn_encoder.fit(X, verbose=True)"
   ],
   "metadata": {
    "collapsed": false,
    "pycharm": {
     "name": "#%%\n",
     "is_executing": true
    }
   }
  },
  {
   "cell_type": "code",
   "execution_count": null,
   "outputs": [],
   "source": [
    "# TimeNet\n"
   ],
   "metadata": {
    "collapsed": false,
    "pycharm": {
     "name": "#%%\n"
    }
   }
  },
  {
   "cell_type": "code",
   "execution_count": null,
   "outputs": [],
   "source": [
    "# Compare"
   ],
   "metadata": {
    "collapsed": false,
    "pycharm": {
     "name": "#%%\n"
    }
   }
  },
  {
   "cell_type": "markdown",
   "source": [
    "### MatrixProfile on PTSD FMRI data"
   ],
   "metadata": {
    "collapsed": false,
    "pycharm": {
     "name": "#%% md\n"
    }
   }
  },
  {
   "cell_type": "code",
   "execution_count": null,
   "outputs": [],
   "source": [
    "df_train = pd.read_excel('data/train_data_age_matched_split.xlsx')\n",
    "df_test = pd.read_excel('data/test_data_age_matched_split.xlsx')"
   ],
   "metadata": {
    "collapsed": false,
    "pycharm": {
     "name": "#%%\n"
    }
   }
  },
  {
   "cell_type": "code",
   "execution_count": null,
   "outputs": [],
   "source": [
    "X_train = df_train.loc[1:, ~df_train.columns.isin(['SpotID', 'Paths'])].to_numpy().T\n",
    "y_train = df_train.loc[0, ~df_train.columns.isin(['SpotID', 'Paths'])].to_numpy()\n",
    "\n",
    "X_test = df_test.loc[1:, ~df_test.columns.isin(['SpotID', 'Paths'])].to_numpy().T\n",
    "y_test = df_test.loc[0, ~df_test.columns.isin(['SpotID', 'Paths'])].to_numpy()"
   ],
   "metadata": {
    "collapsed": false,
    "pycharm": {
     "name": "#%%\n"
    }
   }
  },
  {
   "cell_type": "code",
   "execution_count": null,
   "outputs": [],
   "source": [
    "plt.figure(figsize=(20, 5))\n",
    "profile, figures = mp.analyze(X_train[-1])"
   ],
   "metadata": {
    "collapsed": false,
    "pycharm": {
     "name": "#%%\n"
    }
   }
  }
 ],
 "metadata": {
  "kernelspec": {
   "display_name": "Python 3",
   "language": "python",
   "name": "python3"
  },
  "language_info": {
   "codemirror_mode": {
    "name": "ipython",
    "version": 2
   },
   "file_extension": ".py",
   "mimetype": "text/x-python",
   "name": "python",
   "nbconvert_exporter": "python",
   "pygments_lexer": "ipython2",
   "version": "2.7.6"
  }
 },
 "nbformat": 4,
 "nbformat_minor": 0
}