{
 "nbformat": 4,
 "nbformat_minor": 0,
 "metadata": {
  "kernelspec": {
   "display_name": "Python 3",
   "language": "python",
   "name": "python3"
  },
  "language_info": {
   "codemirror_mode": {
    "name": "ipython",
    "version": 2
   },
   "file_extension": ".py",
   "mimetype": "text/x-python",
   "name": "python",
   "nbconvert_exporter": "python",
   "pygments_lexer": "ipython2",
   "version": "2.7.6"
  },
  "colab": {
   "name": "project.ipynb",
   "provenance": [],
   "collapsed_sections": [],
   "toc_visible": true
  },
  "accelerator": "GPU"
 },
 "cells": [
  {
   "cell_type": "markdown",
   "metadata": {
    "collapsed": false,
    "id": "V2_Q67ApxEjR"
   },
   "source": [
    "# Unsupervised Timeseries Representations\n",
    "## Goal\n",
    "Explore the extent of representation transferability allowed\n",
    "by the algorithm described in [Unsupervised Scalable Representation Learning for Multivariate Time Series](https://arxiv.org/abs/1901.10738).\n",
    "\n",
    "* Compare the transferability of representations learned using TimeNet and the convolutional architecture.\n",
    "* Measure info change as output sequence length decreases, compare to principal components\n",
    "* Introduce measure/standard testing procedure for transferability\n",
    "* Rate corpus datasets by acc/(factor accntg. for dataset instances, dataset length, dataset classes)\n",
    "* Do datasets with more classes work better as corpus sets?\n",
    "\n",
    "## Method\n",
    "1. Divide UCR timeseries dataset\n",
    "    * Subset for learning representations\n",
    "    * Subset for SVM classification\n",
    "2. Train encoder network(s) on dataset to learn representations\n",
    "3. Generate representations for classification dataset\n",
    "4. Train and test SVM on classification dataset representations\n",
    "   * Test on representation dataset\n",
    "   * Test on different dataset\n",
    "5. Compare with TimeNet if time\n",
    "\n",
    "The dataset curation method is the focus of this research. We will test the transferability of\n",
    "representations learned from two independent variables:\n",
    "* dataset size\n",
    "* dataset diversity\n",
    "\n",
    "### Background\n",
    "Info to include:\n",
    "* Timeseries intro\n",
    "* UCR dataset\n",
    "* Concept and benefits of representations\n",
    "* Encoder architecture\n",
    "* Transfer ability\n",
    "* What algo devs did to test transferability and how this extends that"
   ]
  },
  {
   "cell_type": "code",
   "metadata": {
    "pycharm": {
     "name": "#%%\n"
    },
    "id": "VqkI5k1_xEjR"
   },
   "source": [
    "# Imports\n",
    "import pandas as pd\n",
    "import numpy as np\n",
    "import matrixprofile as mp\n",
    "import matplotlib.pyplot as plt\n",
    "import seaborn as sns\n",
    "import keras\n",
    "from keras import layers, models\n",
    "from keras.utils import Sequence\n",
    "import keras.backend as K\n",
    "import tensorflow as tf\n",
    "import tensorflow_addons as tfa\n",
    "import sktime\n",
    "import time\n",
    "from sklearn.model_selection import cross_validate, StratifiedKFold\n",
    "from sklearn import metrics\n",
    "from sklearn.svm import SVC\n",
    "from sklearn.manifold import TSNE\n",
    "from functools import partial\n",
    "import os\n",
    "\n",
    "import sys\n",
    "\n",
    "sys.path.insert(1, '../UnsupervisedScalableRepresentationLearningTimeSeries/')\n",
    "sys.path.insert(1, '../TimeNet/')\n",
    "\n",
    "from scikit_wrappers import CausalCNNEncoderClassifier\n",
    "# from timenet import TimeNet, SimpleSeriesGenerator"
   ],
   "execution_count": 10,
   "outputs": []
  },
  {
   "cell_type": "code",
   "metadata": {
    "pycharm": {
     "name": "#%%\n"
    },
    "id": "rk8Ew4CixEjR"
   },
   "source": [
    "# Load data\n",
    "import uea_ucr_datasets as archive\n",
    "\n",
    "catalog= archive.list_datasets()\n",
    "\n",
    "def standardize(X):\n",
    "    mean = np.nanmean(X)\n",
    "    std = np.sqrt(np.nanvar(X))\n",
    "\n",
    "    for sample in X:\n",
    "        sample = (sample - mean) / std\n",
    "\n",
    "    return X\n",
    "\n",
    "def get_dataset(name):\n",
    "  d_train = archive.Dataset(name)\n",
    "  d_test = archive.Dataset(name, train=False)\n",
    "\n",
    "  max_train_len = max(map(lambda t: t[0].shape[0], d_train))\n",
    "  max_test_len = max(map(lambda t: t[0].shape[0], d_test))\n",
    "  max_len = max(max_train_len, max_test_len)\n",
    "\n",
    "  X_train = np.array(list(map(lambda t: pad_array(t[0], max_len), d_train)))\n",
    "  y_train = np.array(list(map(lambda t: t[1], d_train)))\n",
    "\n",
    "  X_test = np.array(list(map(lambda t: pad_array(t[0], max_len), d_test)))\n",
    "  y_test = np.array(list(map(lambda t: t[1], d_test)))\n",
    "\n",
    "  X = np.concatenate([X_train, X_test])\n",
    "  y = np.concatenate([y_train, y_test])\n",
    "\n",
    "  try:\n",
    "    X = standardize(X)\n",
    "  except:\n",
    "    print('Failed on', name)\n",
    "\n",
    "  X = X.swapaxes(1, 2)\n",
    "\n",
    "  labels = np.unique(y)\n",
    "  transform = {}\n",
    "  for i, l in enumerate(labels):\n",
    "    transform[l] = i\n",
    "  y = np.vectorize(lambda l: transform[l])(y)\n",
    "\n",
    "  return X, y\n",
    "\n",
    "def pad_array(x, length):\n",
    "  assert x.ndim == 2\n",
    "  assert x.shape[1] == 1\n",
    "  \n",
    "  if len(x) == length:\n",
    "    return x\n",
    "\n",
    "  x_padded = np.empty((length, 1))\n",
    "  x[:] = np.nan\n",
    "  x_padded[:len(x)] = x\n",
    "\n",
    "  return x_padded\n",
    "\n",
    "def pad_matrix(X, length):\n",
    "  assert X.ndim == 3\n",
    "  assert X.shape[1] == 1\n",
    "\n",
    "  if X.shape[2] == length:\n",
    "    return X\n",
    "  \n",
    "  X_padded = np.empty((X.shape[0], 1, length))\n",
    "  X_padded[:] = np.nan\n",
    "  for i in range(X.shape[0]):\n",
    "    X_padded[i, :, :X.shape[2]] = X[i]\n",
    "  return X_padded\n",
    "\n",
    "  # return keras.preprocessing.sequence.pad_sequences(X[:, 0, :], value=np.nan, dtype='float32', padding='post', maxlen=length)[:, np.newaxis, :]\n",
    "\n",
    "def build_sampled_dataset(name, size=100):\n",
    "  X, y = get_dataset(name)\n",
    "  sample_idx = np.random.choice(X.shape[0], size=size)\n",
    "  samples = X[sample_idx]\n",
    "  sample_labels = y[sample_idx]\n",
    "\n",
    "  assert len(samples) == size\n",
    "\n",
    "  return samples, sample_labels\n",
    "\n",
    "def build_mixed_dataset(size=1000, diversity=5):\n",
    "  # sample_labels only meaningful when diversity==1\n",
    "\n",
    "  samples_per_dataset = size // diversity\n",
    "  remainder = size % diversity\n",
    "\n",
    "  dataset_names = list(map(lambda i: catalog[i], np.random.choice(len(catalog), size=diversity)))\n",
    "  datasets = {name: build_sampled_dataset(name, size=samples_per_dataset) for name in dataset_names}\n",
    "\n",
    "  max_len = max([d[0].shape[2] for d in datasets.values()])\n",
    "\n",
    "  for name in datasets.keys():\n",
    "    datasets[name] = pad_matrix(datasets[name][0], max_len), datasets[name][1]\n",
    "\n",
    "  samples = np.concatenate(list(map(lambda d: d[0], list(datasets.values()))))\n",
    "  sample_labels = np.concatenate(list(map(lambda d: d[1], list(datasets.values()))))\n",
    "\n",
    "  if remainder:\n",
    "    X_rem, y_rem = build_sampled_dataset(dataset_names[0], size=remainder)\n",
    "    X_rem = pad_matrix(X_rem, max_len)\n",
    "\n",
    "    samples = np.concatenate([samples, X_rem])\n",
    "    sample_labels = np.concatenate([sample_labels, y_rem])\n",
    "\n",
    "  assert len(samples) == size\n",
    "  assert len(sample_labels) == size\n",
    "\n",
    "  return samples, sample_labels, dataset_names"
   ],
   "execution_count": 20,
   "outputs": []
  },
  {
   "cell_type": "code",
   "metadata": {
    "pycharm": {
     "name": "#%%\n",
     "is_executing": true
    },
    "id": "Av8FA0qixEjR",
    "colab": {
     "base_uri": "https://localhost:8080/",
     "height": 374
    },
    "outputId": "789d1277-5f90-438b-bf3c-e9562a6fa71b"
   },
   "source": [
    "# Varying size\n",
    "sample_sizes = [50, 100, 500, 1000]\n",
    "dataset_names = ['ElectricDevices', 'EthanolLevel', 'Phoneme', 'ECG5000', 'Earthquakes']\n",
    "\n",
    "metric_functions = [metrics.accuracy_score]\n",
    "metric_functions.append(partial(metrics.precision_score, average='weighted', zero_division=1))\n",
    "metric_functions.append(partial(metrics.recall_score, average='weighted', zero_division=1))\n",
    "metric_functions.append(partial(metrics.f1_score, average='weighted'))\n",
    "\n",
    "metric_names = ['accuracy', 'precision', 'recall', 'f1']\n",
    "\n",
    "metric_dict = dict(zip(metric_names, metric_functions))\n",
    "\n",
    "results_df = pd.DataFrame(columns=['train_dataset', 'test_dataset', 'samples', 'train_time'] + metric_names)\n",
    "\n",
    "for dataset_name in dataset_names:\n",
    "  for size in sample_sizes:\n",
    "    X, y = build_sampled_dataset(dataset_name, size)\n",
    "\n",
    "    # Train encoder\n",
    "    cnn_encoder = CausalCNNEncoderClassifier(nb_random_samples=5,\n",
    "                                             depth=10,\n",
    "                                             channels=40,\n",
    "                                             out_channels=160,\n",
    "                                             reduced_size=320,\n",
    "                                             nb_steps=1500,\n",
    "                                             batch_size=16,\n",
    "                                             kernel_size=3,\n",
    "                                             early_stopping=3,\n",
    "                                             cuda=True)\n",
    "    \n",
    "    start = time.time()\n",
    "    cnn_encoder.fit(X, y)\n",
    "    end = time.time()\n",
    "\n",
    "    train_time = end - start\n",
    "\n",
    "    cnn_encoder.save_encoder(os.path.join(drive_base, f'TDM/models/{dataset_name}-{size}'))\n",
    "\n",
    "    # Test\n",
    "    cls = cnn_encoder.classifier\n",
    "    \n",
    "    for d_name in dataset_names:\n",
    "      results = {m_name: [] for m_name in metric_names}\n",
    "      results['train_dataset'] = dataset_name\n",
    "      results['test_dataset'] = d_name\n",
    "      results['samples'] = size\n",
    "      results['train_time'] = train_time\n",
    "\n",
    "      X_full, y_full = get_dataset(d_name)\n",
    "      representations = cnn_encoder.encode(X_full)\n",
    "\n",
    "      cv = StratifiedKFold(n_splits=3)\n",
    "      for train_split, test_split in cv.split(representations, y_full):\n",
    "        X_train, y_train = representations[train_split], y_full[train_split]\n",
    "        X_test, y_test = representations[test_split], y_full[test_split]\n",
    "\n",
    "        cls.fit(X_train, y_train)\n",
    "        pred = cls.predict(X_test)\n",
    "\n",
    "        for m_name, f in metric_dict.items():\n",
    "          results[m_name].append(f(y_test, pred))\n",
    "      \n",
    "      for m_name in metric_names:\n",
    "        results[m_name] = np.mean(results[m_name])\n",
    "\n",
    "      print('Results:')\n",
    "      print(results)\n",
    "\n",
    "      results_df = results_df.append(results, ignore_index=True)\n",
    "      results_df.to_csv(os.path.join(drive_base, 'TDM/cnn_encoder_varied_size.csv'))"
   ],
   "execution_count": 31,
   "outputs": [
    {
     "output_type": "error",
     "ename": "KeyboardInterrupt",
     "evalue": "ignored",
     "traceback": [
      "\u001B[0;31m---------------------------------------------------------------------------\u001B[0m",
      "\u001B[0;31mKeyboardInterrupt\u001B[0m                         Traceback (most recent call last)",
      "\u001B[0;32m<ipython-input-31-6dc2b91cd74c>\u001B[0m in \u001B[0;36m<module>\u001B[0;34m()\u001B[0m\n\u001B[1;32m     16\u001B[0m \u001B[0;32mfor\u001B[0m \u001B[0mdataset_name\u001B[0m \u001B[0;32min\u001B[0m \u001B[0mdataset_names\u001B[0m\u001B[0;34m:\u001B[0m\u001B[0;34m\u001B[0m\u001B[0;34m\u001B[0m\u001B[0m\n\u001B[1;32m     17\u001B[0m   \u001B[0;32mfor\u001B[0m \u001B[0msize\u001B[0m \u001B[0;32min\u001B[0m \u001B[0msample_sizes\u001B[0m\u001B[0;34m:\u001B[0m\u001B[0;34m\u001B[0m\u001B[0;34m\u001B[0m\u001B[0m\n\u001B[0;32m---> 18\u001B[0;31m     \u001B[0mX\u001B[0m\u001B[0;34m,\u001B[0m \u001B[0my\u001B[0m \u001B[0;34m=\u001B[0m \u001B[0mbuild_sampled_dataset\u001B[0m\u001B[0;34m(\u001B[0m\u001B[0mdataset_name\u001B[0m\u001B[0;34m,\u001B[0m \u001B[0msize\u001B[0m\u001B[0;34m)\u001B[0m\u001B[0;34m\u001B[0m\u001B[0;34m\u001B[0m\u001B[0m\n\u001B[0m\u001B[1;32m     19\u001B[0m \u001B[0;34m\u001B[0m\u001B[0m\n\u001B[1;32m     20\u001B[0m     \u001B[0;31m# Train encoder\u001B[0m\u001B[0;34m\u001B[0m\u001B[0;34m\u001B[0m\u001B[0;34m\u001B[0m\u001B[0m\n",
      "\u001B[0;32m<ipython-input-6-3ebc03e3905a>\u001B[0m in \u001B[0;36mbuild_sampled_dataset\u001B[0;34m(name, size)\u001B[0m\n\u001B[1;32m     75\u001B[0m \u001B[0;34m\u001B[0m\u001B[0m\n\u001B[1;32m     76\u001B[0m \u001B[0;32mdef\u001B[0m \u001B[0mbuild_sampled_dataset\u001B[0m\u001B[0;34m(\u001B[0m\u001B[0mname\u001B[0m\u001B[0;34m,\u001B[0m \u001B[0msize\u001B[0m\u001B[0;34m=\u001B[0m\u001B[0;36m100\u001B[0m\u001B[0;34m)\u001B[0m\u001B[0;34m:\u001B[0m\u001B[0;34m\u001B[0m\u001B[0;34m\u001B[0m\u001B[0m\n\u001B[0;32m---> 77\u001B[0;31m   \u001B[0mX\u001B[0m\u001B[0;34m,\u001B[0m \u001B[0my\u001B[0m \u001B[0;34m=\u001B[0m \u001B[0mget_dataset\u001B[0m\u001B[0;34m(\u001B[0m\u001B[0mname\u001B[0m\u001B[0;34m)\u001B[0m\u001B[0;34m\u001B[0m\u001B[0;34m\u001B[0m\u001B[0m\n\u001B[0m\u001B[1;32m     78\u001B[0m   \u001B[0msample_idx\u001B[0m \u001B[0;34m=\u001B[0m \u001B[0mnp\u001B[0m\u001B[0;34m.\u001B[0m\u001B[0mrandom\u001B[0m\u001B[0;34m.\u001B[0m\u001B[0mchoice\u001B[0m\u001B[0;34m(\u001B[0m\u001B[0mX\u001B[0m\u001B[0;34m.\u001B[0m\u001B[0mshape\u001B[0m\u001B[0;34m[\u001B[0m\u001B[0;36m0\u001B[0m\u001B[0;34m]\u001B[0m\u001B[0;34m,\u001B[0m \u001B[0msize\u001B[0m\u001B[0;34m=\u001B[0m\u001B[0msize\u001B[0m\u001B[0;34m)\u001B[0m\u001B[0;34m\u001B[0m\u001B[0;34m\u001B[0m\u001B[0m\n\u001B[1;32m     79\u001B[0m   \u001B[0msamples\u001B[0m \u001B[0;34m=\u001B[0m \u001B[0mX\u001B[0m\u001B[0;34m[\u001B[0m\u001B[0msample_idx\u001B[0m\u001B[0;34m]\u001B[0m\u001B[0;34m\u001B[0m\u001B[0;34m\u001B[0m\u001B[0m\n",
      "\u001B[0;32m<ipython-input-6-3ebc03e3905a>\u001B[0m in \u001B[0;36mget_dataset\u001B[0;34m(name)\u001B[0m\n\u001B[1;32m     16\u001B[0m \u001B[0;32mdef\u001B[0m \u001B[0mget_dataset\u001B[0m\u001B[0;34m(\u001B[0m\u001B[0mname\u001B[0m\u001B[0;34m)\u001B[0m\u001B[0;34m:\u001B[0m\u001B[0;34m\u001B[0m\u001B[0;34m\u001B[0m\u001B[0m\n\u001B[1;32m     17\u001B[0m   \u001B[0md_train\u001B[0m \u001B[0;34m=\u001B[0m \u001B[0marchive\u001B[0m\u001B[0;34m.\u001B[0m\u001B[0mDataset\u001B[0m\u001B[0;34m(\u001B[0m\u001B[0mname\u001B[0m\u001B[0;34m)\u001B[0m\u001B[0;34m\u001B[0m\u001B[0;34m\u001B[0m\u001B[0m\n\u001B[0;32m---> 18\u001B[0;31m   \u001B[0md_test\u001B[0m \u001B[0;34m=\u001B[0m \u001B[0marchive\u001B[0m\u001B[0;34m.\u001B[0m\u001B[0mDataset\u001B[0m\u001B[0;34m(\u001B[0m\u001B[0mname\u001B[0m\u001B[0;34m,\u001B[0m \u001B[0mtrain\u001B[0m\u001B[0;34m=\u001B[0m\u001B[0;32mFalse\u001B[0m\u001B[0;34m)\u001B[0m\u001B[0;34m\u001B[0m\u001B[0;34m\u001B[0m\u001B[0m\n\u001B[0m\u001B[1;32m     19\u001B[0m \u001B[0;34m\u001B[0m\u001B[0m\n\u001B[1;32m     20\u001B[0m   \u001B[0mmax_train_len\u001B[0m \u001B[0;34m=\u001B[0m \u001B[0mmax\u001B[0m\u001B[0;34m(\u001B[0m\u001B[0mmap\u001B[0m\u001B[0;34m(\u001B[0m\u001B[0;32mlambda\u001B[0m \u001B[0mt\u001B[0m\u001B[0;34m:\u001B[0m \u001B[0mt\u001B[0m\u001B[0;34m[\u001B[0m\u001B[0;36m0\u001B[0m\u001B[0;34m]\u001B[0m\u001B[0;34m.\u001B[0m\u001B[0mshape\u001B[0m\u001B[0;34m[\u001B[0m\u001B[0;36m0\u001B[0m\u001B[0;34m]\u001B[0m\u001B[0;34m,\u001B[0m \u001B[0md_train\u001B[0m\u001B[0;34m)\u001B[0m\u001B[0;34m)\u001B[0m\u001B[0;34m\u001B[0m\u001B[0;34m\u001B[0m\u001B[0m\n",
      "\u001B[0;32m/usr/local/lib/python3.6/dist-packages/uea_ucr_datasets/dataset.py\u001B[0m in \u001B[0;36m__init__\u001B[0;34m(self, name, train)\u001B[0m\n\u001B[1;32m     73\u001B[0m         \u001B[0;32massert\u001B[0m \u001B[0misinstance\u001B[0m\u001B[0;34m(\u001B[0m\u001B[0mself\u001B[0m\u001B[0;34m.\u001B[0m\u001B[0mdata_x\u001B[0m\u001B[0;34m.\u001B[0m\u001B[0miloc\u001B[0m\u001B[0;34m[\u001B[0m\u001B[0;36m0\u001B[0m\u001B[0;34m,\u001B[0m \u001B[0;36m0\u001B[0m\u001B[0;34m]\u001B[0m\u001B[0;34m.\u001B[0m\u001B[0mindex\u001B[0m\u001B[0;34m,\u001B[0m \u001B[0mpd\u001B[0m\u001B[0;34m.\u001B[0m\u001B[0mRangeIndex\u001B[0m\u001B[0;34m)\u001B[0m\u001B[0;34m\u001B[0m\u001B[0;34m\u001B[0m\u001B[0m\n\u001B[1;32m     74\u001B[0m \u001B[0;34m\u001B[0m\u001B[0m\n\u001B[0;32m---> 75\u001B[0;31m         \u001B[0mself\u001B[0m\u001B[0;34m.\u001B[0m\u001B[0mclass_mapping\u001B[0m \u001B[0;34m=\u001B[0m \u001B[0mself\u001B[0m\u001B[0;34m.\u001B[0m\u001B[0m__build_class_mapping\u001B[0m\u001B[0;34m(\u001B[0m\u001B[0mname\u001B[0m\u001B[0;34m)\u001B[0m\u001B[0;34m\u001B[0m\u001B[0;34m\u001B[0m\u001B[0m\n\u001B[0m\u001B[1;32m     76\u001B[0m         \u001B[0mself\u001B[0m\u001B[0;34m.\u001B[0m\u001B[0m_n_classes\u001B[0m \u001B[0;34m=\u001B[0m \u001B[0mlen\u001B[0m\u001B[0;34m(\u001B[0m\u001B[0mself\u001B[0m\u001B[0;34m.\u001B[0m\u001B[0mclass_mapping\u001B[0m\u001B[0;34m.\u001B[0m\u001B[0mkeys\u001B[0m\u001B[0;34m(\u001B[0m\u001B[0;34m)\u001B[0m\u001B[0;34m)\u001B[0m\u001B[0;34m\u001B[0m\u001B[0;34m\u001B[0m\u001B[0m\n\u001B[1;32m     77\u001B[0m \u001B[0;34m\u001B[0m\u001B[0m\n",
      "\u001B[0;32m/usr/local/lib/python3.6/dist-packages/uea_ucr_datasets/dataset.py\u001B[0m in \u001B[0;36m__build_class_mapping\u001B[0;34m(name)\u001B[0m\n\u001B[1;32m     89\u001B[0m         \u001B[0mtrain_path\u001B[0m \u001B[0;34m=\u001B[0m \u001B[0m_build_UEA_UCR_data_path\u001B[0m\u001B[0;34m(\u001B[0m\u001B[0mname\u001B[0m\u001B[0;34m,\u001B[0m \u001B[0;32mTrue\u001B[0m\u001B[0;34m)\u001B[0m\u001B[0;34m\u001B[0m\u001B[0;34m\u001B[0m\u001B[0m\n\u001B[1;32m     90\u001B[0m         \u001B[0;31m# test_path = build_UEA_UCR_data_path(name, False)\u001B[0m\u001B[0;34m\u001B[0m\u001B[0;34m\u001B[0m\u001B[0;34m\u001B[0m\u001B[0m\n\u001B[0;32m---> 91\u001B[0;31m         \u001B[0m_\u001B[0m\u001B[0;34m,\u001B[0m \u001B[0mtrain_y\u001B[0m \u001B[0;34m=\u001B[0m \u001B[0mload_from_tsfile_to_dataframe\u001B[0m\u001B[0;34m(\u001B[0m\u001B[0mtrain_path\u001B[0m\u001B[0;34m)\u001B[0m\u001B[0;34m\u001B[0m\u001B[0;34m\u001B[0m\u001B[0m\n\u001B[0m\u001B[1;32m     92\u001B[0m         \u001B[0;31m# _, test_y = load_from_tsfile_to_dataframe(test_path)\u001B[0m\u001B[0;34m\u001B[0m\u001B[0;34m\u001B[0m\u001B[0;34m\u001B[0m\u001B[0m\n\u001B[1;32m     93\u001B[0m         \u001B[0;31m# all_labels = np.concatenate([train_y, test_y], axis=0)\u001B[0m\u001B[0;34m\u001B[0m\u001B[0;34m\u001B[0m\u001B[0;34m\u001B[0m\u001B[0m\n",
      "\u001B[0;32m/usr/local/lib/python3.6/dist-packages/sktime/utils/load_data.py\u001B[0m in \u001B[0;36mload_from_tsfile_to_dataframe\u001B[0;34m(full_file_path_and_name, return_separate_X_and_y, replace_missing_vals_with)\u001B[0m\n\u001B[1;32m    636\u001B[0m                                 \u001B[0mdata_series\u001B[0m \u001B[0;34m=\u001B[0m \u001B[0;34m[\u001B[0m\u001B[0mfloat\u001B[0m\u001B[0;34m(\u001B[0m\u001B[0mi\u001B[0m\u001B[0;34m)\u001B[0m \u001B[0;32mfor\u001B[0m \u001B[0mi\u001B[0m \u001B[0;32min\u001B[0m \u001B[0mdata_series\u001B[0m\u001B[0;34m]\u001B[0m\u001B[0;34m\u001B[0m\u001B[0;34m\u001B[0m\u001B[0m\n\u001B[1;32m    637\u001B[0m                                 instance_list[dim].append(\n\u001B[0;32m--> 638\u001B[0;31m                                     pd.Series(data_series))\n\u001B[0m\u001B[1;32m    639\u001B[0m \u001B[0;34m\u001B[0m\u001B[0m\n\u001B[1;32m    640\u001B[0m                             \u001B[0;32melse\u001B[0m\u001B[0;34m:\u001B[0m\u001B[0;34m\u001B[0m\u001B[0;34m\u001B[0m\u001B[0m\n",
      "\u001B[0;32m/usr/local/lib/python3.6/dist-packages/pandas/core/series.py\u001B[0m in \u001B[0;36m__init__\u001B[0;34m(self, data, index, dtype, name, copy, fastpath)\u001B[0m\n\u001B[1;32m    327\u001B[0m                 \u001B[0mdata\u001B[0m \u001B[0;34m=\u001B[0m \u001B[0msanitize_array\u001B[0m\u001B[0;34m(\u001B[0m\u001B[0mdata\u001B[0m\u001B[0;34m,\u001B[0m \u001B[0mindex\u001B[0m\u001B[0;34m,\u001B[0m \u001B[0mdtype\u001B[0m\u001B[0;34m,\u001B[0m \u001B[0mcopy\u001B[0m\u001B[0;34m,\u001B[0m \u001B[0mraise_cast_failure\u001B[0m\u001B[0;34m=\u001B[0m\u001B[0;32mTrue\u001B[0m\u001B[0;34m)\u001B[0m\u001B[0;34m\u001B[0m\u001B[0;34m\u001B[0m\u001B[0m\n\u001B[1;32m    328\u001B[0m \u001B[0;34m\u001B[0m\u001B[0m\n\u001B[0;32m--> 329\u001B[0;31m                 \u001B[0mdata\u001B[0m \u001B[0;34m=\u001B[0m \u001B[0mSingleBlockManager\u001B[0m\u001B[0;34m.\u001B[0m\u001B[0mfrom_array\u001B[0m\u001B[0;34m(\u001B[0m\u001B[0mdata\u001B[0m\u001B[0;34m,\u001B[0m \u001B[0mindex\u001B[0m\u001B[0;34m)\u001B[0m\u001B[0;34m\u001B[0m\u001B[0;34m\u001B[0m\u001B[0m\n\u001B[0m\u001B[1;32m    330\u001B[0m \u001B[0;34m\u001B[0m\u001B[0m\n\u001B[1;32m    331\u001B[0m         \u001B[0mgeneric\u001B[0m\u001B[0;34m.\u001B[0m\u001B[0mNDFrame\u001B[0m\u001B[0;34m.\u001B[0m\u001B[0m__init__\u001B[0m\u001B[0;34m(\u001B[0m\u001B[0mself\u001B[0m\u001B[0;34m,\u001B[0m \u001B[0mdata\u001B[0m\u001B[0;34m)\u001B[0m\u001B[0;34m\u001B[0m\u001B[0;34m\u001B[0m\u001B[0m\n",
      "\u001B[0;32m/usr/local/lib/python3.6/dist-packages/pandas/core/internals/managers.py\u001B[0m in \u001B[0;36mfrom_array\u001B[0;34m(cls, array, index)\u001B[0m\n\u001B[1;32m   1567\u001B[0m         \u001B[0mConstructor\u001B[0m \u001B[0;32mfor\u001B[0m \u001B[0;32mif\u001B[0m \u001B[0mwe\u001B[0m \u001B[0mhave\u001B[0m \u001B[0man\u001B[0m \u001B[0marray\u001B[0m \u001B[0mthat\u001B[0m \u001B[0;32mis\u001B[0m \u001B[0;32mnot\u001B[0m \u001B[0myet\u001B[0m \u001B[0ma\u001B[0m \u001B[0mBlock\u001B[0m\u001B[0;34m.\u001B[0m\u001B[0;34m\u001B[0m\u001B[0;34m\u001B[0m\u001B[0m\n\u001B[1;32m   1568\u001B[0m         \"\"\"\n\u001B[0;32m-> 1569\u001B[0;31m         \u001B[0mblock\u001B[0m \u001B[0;34m=\u001B[0m \u001B[0mmake_block\u001B[0m\u001B[0;34m(\u001B[0m\u001B[0marray\u001B[0m\u001B[0;34m,\u001B[0m \u001B[0mplacement\u001B[0m\u001B[0;34m=\u001B[0m\u001B[0mslice\u001B[0m\u001B[0;34m(\u001B[0m\u001B[0;36m0\u001B[0m\u001B[0;34m,\u001B[0m \u001B[0mlen\u001B[0m\u001B[0;34m(\u001B[0m\u001B[0mindex\u001B[0m\u001B[0;34m)\u001B[0m\u001B[0;34m)\u001B[0m\u001B[0;34m,\u001B[0m \u001B[0mndim\u001B[0m\u001B[0;34m=\u001B[0m\u001B[0;36m1\u001B[0m\u001B[0;34m)\u001B[0m\u001B[0;34m\u001B[0m\u001B[0;34m\u001B[0m\u001B[0m\n\u001B[0m\u001B[1;32m   1570\u001B[0m         \u001B[0;32mreturn\u001B[0m \u001B[0mcls\u001B[0m\u001B[0;34m(\u001B[0m\u001B[0mblock\u001B[0m\u001B[0;34m,\u001B[0m \u001B[0mindex\u001B[0m\u001B[0;34m)\u001B[0m\u001B[0;34m\u001B[0m\u001B[0;34m\u001B[0m\u001B[0m\n\u001B[1;32m   1571\u001B[0m \u001B[0;34m\u001B[0m\u001B[0m\n",
      "\u001B[0;32m/usr/local/lib/python3.6/dist-packages/pandas/core/internals/blocks.py\u001B[0m in \u001B[0;36mmake_block\u001B[0;34m(values, placement, klass, ndim, dtype)\u001B[0m\n\u001B[1;32m   2720\u001B[0m         \u001B[0mvalues\u001B[0m \u001B[0;34m=\u001B[0m \u001B[0mDatetimeArray\u001B[0m\u001B[0;34m.\u001B[0m\u001B[0m_simple_new\u001B[0m\u001B[0;34m(\u001B[0m\u001B[0mvalues\u001B[0m\u001B[0;34m,\u001B[0m \u001B[0mdtype\u001B[0m\u001B[0;34m=\u001B[0m\u001B[0mdtype\u001B[0m\u001B[0;34m)\u001B[0m\u001B[0;34m\u001B[0m\u001B[0;34m\u001B[0m\u001B[0m\n\u001B[1;32m   2721\u001B[0m \u001B[0;34m\u001B[0m\u001B[0m\n\u001B[0;32m-> 2722\u001B[0;31m     \u001B[0;32mreturn\u001B[0m \u001B[0mklass\u001B[0m\u001B[0;34m(\u001B[0m\u001B[0mvalues\u001B[0m\u001B[0;34m,\u001B[0m \u001B[0mndim\u001B[0m\u001B[0;34m=\u001B[0m\u001B[0mndim\u001B[0m\u001B[0;34m,\u001B[0m \u001B[0mplacement\u001B[0m\u001B[0;34m=\u001B[0m\u001B[0mplacement\u001B[0m\u001B[0;34m)\u001B[0m\u001B[0;34m\u001B[0m\u001B[0;34m\u001B[0m\u001B[0m\n\u001B[0m\u001B[1;32m   2723\u001B[0m \u001B[0;34m\u001B[0m\u001B[0m\n\u001B[1;32m   2724\u001B[0m \u001B[0;34m\u001B[0m\u001B[0m\n",
      "\u001B[0;32m/usr/local/lib/python3.6/dist-packages/pandas/core/internals/blocks.py\u001B[0m in \u001B[0;36m__init__\u001B[0;34m(self, values, placement, ndim)\u001B[0m\n\u001B[1;32m    124\u001B[0m     \u001B[0;32mdef\u001B[0m \u001B[0m__init__\u001B[0m\u001B[0;34m(\u001B[0m\u001B[0mself\u001B[0m\u001B[0;34m,\u001B[0m \u001B[0mvalues\u001B[0m\u001B[0;34m,\u001B[0m \u001B[0mplacement\u001B[0m\u001B[0;34m,\u001B[0m \u001B[0mndim\u001B[0m\u001B[0;34m=\u001B[0m\u001B[0;32mNone\u001B[0m\u001B[0;34m)\u001B[0m\u001B[0;34m:\u001B[0m\u001B[0;34m\u001B[0m\u001B[0;34m\u001B[0m\u001B[0m\n\u001B[1;32m    125\u001B[0m         \u001B[0mself\u001B[0m\u001B[0;34m.\u001B[0m\u001B[0mndim\u001B[0m \u001B[0;34m=\u001B[0m \u001B[0mself\u001B[0m\u001B[0;34m.\u001B[0m\u001B[0m_check_ndim\u001B[0m\u001B[0;34m(\u001B[0m\u001B[0mvalues\u001B[0m\u001B[0;34m,\u001B[0m \u001B[0mndim\u001B[0m\u001B[0;34m)\u001B[0m\u001B[0;34m\u001B[0m\u001B[0;34m\u001B[0m\u001B[0m\n\u001B[0;32m--> 126\u001B[0;31m         \u001B[0mself\u001B[0m\u001B[0;34m.\u001B[0m\u001B[0mmgr_locs\u001B[0m \u001B[0;34m=\u001B[0m \u001B[0mplacement\u001B[0m\u001B[0;34m\u001B[0m\u001B[0;34m\u001B[0m\u001B[0m\n\u001B[0m\u001B[1;32m    127\u001B[0m         \u001B[0mself\u001B[0m\u001B[0;34m.\u001B[0m\u001B[0mvalues\u001B[0m \u001B[0;34m=\u001B[0m \u001B[0mvalues\u001B[0m\u001B[0;34m\u001B[0m\u001B[0;34m\u001B[0m\u001B[0m\n\u001B[1;32m    128\u001B[0m \u001B[0;34m\u001B[0m\u001B[0m\n",
      "\u001B[0;32m/usr/local/lib/python3.6/dist-packages/pandas/core/internals/blocks.py\u001B[0m in \u001B[0;36mmgr_locs\u001B[0;34m(self, new_mgr_locs)\u001B[0m\n\u001B[1;32m    238\u001B[0m     \u001B[0;32mdef\u001B[0m \u001B[0mmgr_locs\u001B[0m\u001B[0;34m(\u001B[0m\u001B[0mself\u001B[0m\u001B[0;34m,\u001B[0m \u001B[0mnew_mgr_locs\u001B[0m\u001B[0;34m)\u001B[0m\u001B[0;34m:\u001B[0m\u001B[0;34m\u001B[0m\u001B[0;34m\u001B[0m\u001B[0m\n\u001B[1;32m    239\u001B[0m         \u001B[0;32mif\u001B[0m \u001B[0;32mnot\u001B[0m \u001B[0misinstance\u001B[0m\u001B[0;34m(\u001B[0m\u001B[0mnew_mgr_locs\u001B[0m\u001B[0;34m,\u001B[0m \u001B[0mlibinternals\u001B[0m\u001B[0;34m.\u001B[0m\u001B[0mBlockPlacement\u001B[0m\u001B[0;34m)\u001B[0m\u001B[0;34m:\u001B[0m\u001B[0;34m\u001B[0m\u001B[0;34m\u001B[0m\u001B[0m\n\u001B[0;32m--> 240\u001B[0;31m             \u001B[0mnew_mgr_locs\u001B[0m \u001B[0;34m=\u001B[0m \u001B[0mlibinternals\u001B[0m\u001B[0;34m.\u001B[0m\u001B[0mBlockPlacement\u001B[0m\u001B[0;34m(\u001B[0m\u001B[0mnew_mgr_locs\u001B[0m\u001B[0;34m)\u001B[0m\u001B[0;34m\u001B[0m\u001B[0;34m\u001B[0m\u001B[0m\n\u001B[0m\u001B[1;32m    241\u001B[0m \u001B[0;34m\u001B[0m\u001B[0m\n\u001B[1;32m    242\u001B[0m         \u001B[0mself\u001B[0m\u001B[0;34m.\u001B[0m\u001B[0m_mgr_locs\u001B[0m \u001B[0;34m=\u001B[0m \u001B[0mnew_mgr_locs\u001B[0m\u001B[0;34m\u001B[0m\u001B[0;34m\u001B[0m\u001B[0m\n",
      "\u001B[0;31mKeyboardInterrupt\u001B[0m: "
     ]
    }
   ]
  },
  {
   "cell_type": "code",
   "metadata": {
    "colab": {
     "base_uri": "https://localhost:8080/",
     "height": 248
    },
    "id": "juXJmGlo3vV0",
    "outputId": "914a7891-92ef-45a2-d8a0-4223838d518b"
   },
   "source": [
    "# t-SNE\n",
    "# tsne_encoder = CausalCNNEncoderClassifier(nb_random_samples=5,\n",
    "#                                              depth=10,\n",
    "#                                              channels=40,\n",
    "#                                              out_channels=160,\n",
    "#                                              reduced_size=320,\n",
    "#                                              nb_steps=1500,\n",
    "#                                              batch_size=16,\n",
    "#                                              kernel_size=3,\n",
    "#                                              early_stopping=3,\n",
    "#                                              cuda=True)\n",
    "tsne_encoder.load_encoder('models/ElectricDevices-1000')\n",
    "\n",
    "X, _ = get_dataset('ChlorineConcentration')\n",
    "encodings = tsne_encoder.encode(X)\n",
    "\n",
    "tsne = TSNE(n_components=3).fit_transform(X[:, 0, :])\n",
    "\n",
    "from mpl_toolkits.mplot3d import Axes3D\n",
    "import matplotlib.pyplot as plt\n",
    "\n",
    "fig = plt.figure()\n",
    "ax = fig.add_subplot(111, projection='3d')\n",
    "ax.set_title('ElectricDevices vis. Chlorine')\n",
    "ax.scatter(*zip(*tsne))\n",
    "plt.savefig('data/imgs/tsne_ElectricDevices_Chlorine.png')"
   ],
   "execution_count": 66,
   "outputs": [
    {
     "data": {
      "text/plain": "<Figure size 432x288 with 1 Axes>",
      "image/png": "[encoded data removed]"
     },
     "metadata": {
      "needs_background": "light"
     },
     "output_type": "display_data"
    }
   ]
  },
  {
   "cell_type": "code",
   "execution_count": null,
   "outputs": [],
   "source": [
    "pd.set_option('display.max_rows', None)\n",
    "df = pd.read_csv('data/cnn_encoder_varied_size.csv', index_col=0)\n",
    "df[['train_dataset', 'test_dataset', 'accuracy', 'samples']].sort_values('accuracy',\n",
    "                                                                         ascending=False)[:100]"
   ],
   "metadata": {
    "collapsed": false,
    "pycharm": {
     "name": "#%%\n"
    }
   }
  },
  {
   "cell_type": "code",
   "execution_count": null,
   "outputs": [],
   "source": [
    "corrs = {}\n",
    "for d in df['train_dataset'].unique():\n",
    "    v = df.loc[df['train_dataset'] == d]\n",
    "    corrs[d] = v.corr()['samples']['accuracy']\n",
    "\n",
    "print(corrs)"
   ],
   "metadata": {
    "collapsed": false,
    "pycharm": {
     "name": "#%%\n"
    }
   }
  },
  {
   "cell_type": "code",
   "execution_count": null,
   "outputs": [],
   "source": [
    "df.corr()['samples']['accuracy']"
   ],
   "metadata": {
    "collapsed": false,
    "pycharm": {
     "name": "#%%\n"
    }
   }
  },
  {
   "cell_type": "code",
   "execution_count": null,
   "outputs": [],
   "source": [
    "for ds in df['train_dataset'].unique():\n",
    "    plt.clf()\n",
    "    x = get_dataset(ds)[0][0][0, :]\n",
    "    ax = sns.lineplot(x=np.arange(len(x)), y=x)\n",
    "    ax.set_title(ds)\n",
    "    plt.savefig(f'data/imgs/{ds}_sample.png')"
   ],
   "metadata": {
    "collapsed": false,
    "pycharm": {
     "name": "#%%\n"
    }
   }
  },
  {
   "cell_type": "code",
   "execution_count": null,
   "outputs": [],
   "source": [
    "# Varied diversity\n",
    "test_set_names = ['ElectricDevices', 'EthanolLevel', 'Phoneme', 'ECG5000', 'Earthquakes']\n",
    "diversities = [1, 3, 5, 10, 20, 40]\n",
    "# diversities = [20, 40]\n",
    "# diversities = [1, 3, 10, 20, 40]\n",
    "samples = 500\n",
    "reps = 3\n",
    "\n",
    "metric_functions = [metrics.accuracy_score]\n",
    "metric_functions.append(partial(metrics.precision_score, average='weighted', zero_division=1))\n",
    "metric_functions.append(partial(metrics.recall_score, average='weighted', zero_division=1))\n",
    "metric_functions.append(partial(metrics.f1_score, average='weighted'))\n",
    "\n",
    "metric_names = ['accuracy', 'precision', 'recall', 'f1']\n",
    "\n",
    "metric_dict = dict(zip(metric_names, metric_functions))\n",
    "\n",
    "results_diversity_df = pd.DataFrame(columns=['diversity', 'samples', 'train_time', 'test_dataset'] + metric_names)\n",
    "# results_diversity_df = pd.read_csv(os.path.join(drive_base, 'TDM/cnn_encoder_diversity.csv'))\n",
    "\n",
    "for diversity in diversities:\n",
    "  for rep in range(reps):\n",
    "    try:\n",
    "      X, _, _ = build_mixed_dataset(samples, diversity=diversity)\n",
    "\n",
    "      # Train encoder\n",
    "      cnn_encoder = CausalCNNEncoderClassifier(nb_random_samples=5,\n",
    "                                              depth=10,\n",
    "                                              channels=40,\n",
    "                                              out_channels=160,\n",
    "                                              reduced_size=320,\n",
    "                                              nb_steps=1500,\n",
    "                                              batch_size=16,\n",
    "                                              kernel_size=3,\n",
    "                                              cuda=True)\n",
    "      \n",
    "      start = time.time()\n",
    "      cnn_encoder.fit_encoder(X)\n",
    "      end = time.time()\n",
    "\n",
    "      train_time = end - start\n",
    "\n",
    "      cnn_encoder.save_encoder(os.path.join(drive_base, f'TDM/models/{diversity}-{samples}'))\n",
    "\n",
    "      # Test\n",
    "      cls = SVC()\n",
    "\n",
    "      for d_name in test_set_names:\n",
    "        results = {m_name: [] for m_name in metric_names}\n",
    "        results['test_dataset'] = d_name\n",
    "        results['diversity'] = diversity\n",
    "        results['samples'] = samples\n",
    "        results['train_time'] = train_time\n",
    "\n",
    "        X_full, y_full = get_dataset(d_name)\n",
    "        representations = np.nan_to_num(cnn_encoder.encode(X_full))\n",
    "\n",
    "        cv = StratifiedKFold(n_splits=3)\n",
    "        for train_split, test_split in cv.split(representations, y_full):\n",
    "          X_train, y_train = representations[train_split], y_full[train_split]\n",
    "          X_test, y_test = representations[test_split], y_full[test_split]\n",
    "\n",
    "          cls.fit(X_train, y_train)\n",
    "          pred = cls.predict(X_test)\n",
    "\n",
    "          for m_name, f in metric_dict.items():\n",
    "            results[m_name].append(f(y_test, pred))\n",
    "    \n",
    "        for m_name in metric_names:\n",
    "          results[m_name] = np.mean(results[m_name])\n",
    "\n",
    "        print('Results:')\n",
    "        print(results)\n",
    "\n",
    "        results_diversity_df = results_diversity_df.append(results, ignore_index=True)\n",
    "        results_diversity_df.to_csv(os.path.join(drive_base, 'TDM/cnn_encoder_diversity.csv'))\n",
    "    except Exception as e:\n",
    "      print(e)"
   ],
   "metadata": {
    "collapsed": false,
    "pycharm": {
     "name": "#%%\n"
    }
   }
  },
  {
   "cell_type": "code",
   "execution_count": null,
   "outputs": [],
   "source": [
    "# TimeNet varying size\n",
    "sample_sizes = [50, 100, 500, 1000]\n",
    "dataset_names = ['ElectricDevices', 'EthanolLevel', 'Phoneme', 'ECG5000', 'Earthquakes']\n",
    "\n",
    "metric_functions = [metrics.accuracy_score]\n",
    "metric_functions.append(partial(metrics.precision_score, average='weighted', zero_division=1))\n",
    "metric_functions.append(partial(metrics.recall_score, average='weighted', zero_division=1))\n",
    "metric_functions.append(partial(metrics.f1_score, average='weighted'))\n",
    "\n",
    "metric_names = ['accuracy', 'precision', 'recall', 'f1']\n",
    "\n",
    "metric_dict = dict(zip(metric_names, metric_functions))\n",
    "\n",
    "results_tn_df = pd.DataFrame(columns=['train_dataset', 'test_dataset', 'samples', 'train_time'] + metric_names)\n",
    "\n",
    "for dataset_name in dataset_names:\n",
    "  for size in sample_sizes:\n",
    "    X, y = build_sampled_dataset(dataset_name, size)\n",
    "\n",
    "    # Train encoder\n",
    "    timenet = TimeNet(size=60, \n",
    "                      num_layers=3,\n",
    "                      dropout=0.4)\n",
    "    \n",
    "    gen = SimpleSeriesGenerator(X)\n",
    "\n",
    "    start = time.time()\n",
    "    timenet.train(gen, nb_epoch=20)\n",
    "    end = time.time()\n",
    "\n",
    "    train_time = end - start\n",
    "\n",
    "    # Test\n",
    "    cls = SVC()\n",
    "    \n",
    "    for d_name in dataset_names:\n",
    "      results = {m_name: [] for m_name in metric_names}\n",
    "      results['train_dataset'] = dataset_name\n",
    "      results['test_dataset'] = d_name\n",
    "      results['samples'] = size\n",
    "      results['train_time'] = train_time\n",
    "\n",
    "      X_full, y_full = get_dataset(d_name)\n",
    "      t_gen = SimpleSeriesGenerator(X_full)\n",
    "      representations = timenet.encode(t_gen)\n",
    "\n",
    "      cv = StratifiedKFold(n_splits=3)\n",
    "      for train_split, test_split in cv.split(representations, y_full):\n",
    "        X_train, y_train = representations[train_split], y_full[train_split]\n",
    "        X_test, y_test = representations[test_split], y_full[test_split]\n",
    "\n",
    "        cls.fit(X_train, y_train)\n",
    "        pred = cls.predict(X_test)\n",
    "\n",
    "        for m_name, f in metric_dict.items():\n",
    "          results[m_name].append(f(y_test, pred))\n",
    "      \n",
    "      for m_name in metric_names:\n",
    "        results[m_name] = np.mean(results[m_name])\n",
    "\n",
    "      print('Results:')\n",
    "      print(results)\n",
    "\n",
    "      results_tn_df = results_df.append(results, ignore_index=True)\n",
    "      results_tn_df.to_csv(os.path.join(drive_base, 'TDM/timenet_varied_size.csv'))"
   ],
   "metadata": {
    "collapsed": false,
    "pycharm": {
     "name": "#%%\n"
    }
   }
  },
  {
   "cell_type": "code",
   "execution_count": null,
   "outputs": [],
   "source": [
    "# Varied diversity\n",
    "test_set_names = ['ElectricDevices', 'EthanolLevel', 'Phoneme', 'ECG5000', 'Earthquakes']\n",
    "diversities = [1, 3, 5, 10, 20, 40]\n",
    "samples = 500\n",
    "reps = 3\n",
    "\n",
    "metric_functions = [metrics.accuracy_score]\n",
    "metric_functions.append(partial(metrics.precision_score, average='weighted', zero_division=1))\n",
    "metric_functions.append(partial(metrics.recall_score, average='weighted', zero_division=1))\n",
    "metric_functions.append(partial(metrics.f1_score, average='weighted'))\n",
    "\n",
    "metric_names = ['accuracy', 'precision', 'recall', 'f1']\n",
    "\n",
    "metric_dict = dict(zip(metric_names, metric_functions))\n",
    "\n",
    "results_tn_diversity_df = pd.DataFrame(columns=['diversity', 'smples', 'train_time', 'test_dataset'] + metric_names)\n",
    "\n",
    "for diversity in diversities:\n",
    "  for rep in range(reps):\n",
    "    try:\n",
    "      X, _, _ = build_mixed_dataset(samples, diversity=diversity)\n",
    "\n",
    "      # Train encoder\n",
    "      timenet = TimeNet(size=60, \n",
    "                      num_layers=3,\n",
    "                      dropout=0.4)\n",
    "    \n",
    "      gen = SimpleSeriesGenerator(X)\n",
    "      \n",
    "      start = time.time()\n",
    "      timenet.train(gen)\n",
    "      end = time.time()\n",
    "\n",
    "      train_time = end - start\n",
    "\n",
    "      # Test\n",
    "      cls = SVC()\n",
    "\n",
    "      for d_name in test_set_names:\n",
    "        results = {m_name: [] for m_name in metric_names}\n",
    "        results['test_dataset'] = d_name\n",
    "        results['diversity'] = diversity\n",
    "        results['samples'] = samples\n",
    "        results['train_time'] = train_time\n",
    "\n",
    "        X_full, y_full = get_dataset(d_name)\n",
    "        representations = np.nan_to_num(timenet.encode(X_full))\n",
    "\n",
    "        cv = StratifiedKFold(n_splits=3)\n",
    "        for train_split, test_split in cv.split(representations, y_full):\n",
    "          X_train, y_train = representations[train_split], y_full[train_split]\n",
    "          X_test, y_test = representations[test_split], y_full[test_split]\n",
    "\n",
    "          cls.fit(X_train, y_train)\n",
    "          pred = cls.predict(X_test)\n",
    "\n",
    "          for m_name, f in metric_dict.items():\n",
    "            results[m_name].append(f(y_test, pred))\n",
    "    \n",
    "        for m_name in metric_names:\n",
    "          results[m_name] = np.mean(results[m_name])\n",
    "\n",
    "        print('Results:')\n",
    "        print(results)\n",
    "\n",
    "        results_tn_diversity_df = results_tn_diversity_df.append(results, ignore_index=True)\n",
    "        results_tn_diversity_df.to_csv(os.path.join(drive_base, 'TDM/timenet_diversity.csv'))\n",
    "    except Exception as e:\n",
    "      print(e)"
   ],
   "metadata": {
    "collapsed": false,
    "pycharm": {
     "name": "#%%\n"
    }
   }
  },
  {
   "cell_type": "code",
   "execution_count": 47,
   "outputs": [
    {
     "data": {
      "text/plain": "      train_dataset     test_dataset  accuracy  samples\n48          Phoneme          ECG5000  0.938401      100\n58          Phoneme          ECG5000  0.938200     1000\n73          ECG5000          ECG5000  0.937001      500\n43          Phoneme          ECG5000  0.937000       50\n53          Phoneme          ECG5000  0.936400      500\n78          ECG5000          ECG5000  0.929201     1000\n63          ECG5000          ECG5000  0.928200       50\n13  ElectricDevices          ECG5000  0.927201      500\n18  ElectricDevices          ECG5000  0.926600     1000\n68          ECG5000          ECG5000  0.924001      100\n33     EthanolLevel          ECG5000  0.920801      500\n38     EthanolLevel          ECG5000  0.920800     1000\n93      Earthquakes          ECG5000  0.919601      500\n28     EthanolLevel          ECG5000  0.919201      100\n3   ElectricDevices          ECG5000  0.918801       50\n23     EthanolLevel          ECG5000  0.918801       50\n8   ElectricDevices          ECG5000  0.917401      100\n88      Earthquakes          ECG5000  0.917001      100\n98      Earthquakes          ECG5000  0.916201     1000\n83      Earthquakes          ECG5000  0.914801       50\n29     EthanolLevel      Earthquakes  0.798263      100\n64          ECG5000      Earthquakes  0.798263       50\n99      Earthquakes      Earthquakes  0.798263     1000\n59          Phoneme      Earthquakes  0.798263     1000\n34     EthanolLevel      Earthquakes  0.798263      500\n39     EthanolLevel      Earthquakes  0.798263     1000\n49          Phoneme      Earthquakes  0.798263      100\n54          Phoneme      Earthquakes  0.798263      500\n74          ECG5000      Earthquakes  0.798263      500\n69          ECG5000      Earthquakes  0.798263      100\n24     EthanolLevel      Earthquakes  0.798263       50\n79          ECG5000      Earthquakes  0.798263     1000\n19  ElectricDevices      Earthquakes  0.798263     1000\n84      Earthquakes      Earthquakes  0.798263       50\n14  ElectricDevices      Earthquakes  0.798263      500\n89      Earthquakes      Earthquakes  0.798263      100\n9   ElectricDevices      Earthquakes  0.798263      100\n94      Earthquakes      Earthquakes  0.798263      500\n4   ElectricDevices      Earthquakes  0.798263       50\n44          Phoneme      Earthquakes  0.798263       50\n15  ElectricDevices  ElectricDevices  0.768228     1000\n10  ElectricDevices  ElectricDevices  0.762338      500\n45          Phoneme  ElectricDevices  0.756808      100\n5   ElectricDevices  ElectricDevices  0.753261      100\n55          Phoneme  ElectricDevices  0.752000     1000\n0   ElectricDevices  ElectricDevices  0.750557       50\n50          Phoneme  ElectricDevices  0.745388      500\n95      Earthquakes  ElectricDevices  0.745328     1000\n40          Phoneme  ElectricDevices  0.742322       50\n90      Earthquakes  ElectricDevices  0.731202      500\n70          ECG5000  ElectricDevices  0.715214      500\n85      Earthquakes  ElectricDevices  0.700305      100\n80      Earthquakes  ElectricDevices  0.696338       50\n60          ECG5000  ElectricDevices  0.660394       50\n20     EthanolLevel  ElectricDevices  0.657870       50\n65          ECG5000  ElectricDevices  0.653902      100\n75          ECG5000  ElectricDevices  0.642543     1000\n30     EthanolLevel  ElectricDevices  0.642423      500\n35     EthanolLevel  ElectricDevices  0.626313     1000\n25     EthanolLevel  ElectricDevices  0.603352      100\n47          Phoneme          Phoneme  0.311371      100\n57          Phoneme          Phoneme  0.292890     1000\n42          Phoneme          Phoneme  0.281043       50\n52          Phoneme          Phoneme  0.272978      500\n11  ElectricDevices     EthanolLevel  0.262919      500\n1   ElectricDevices     EthanolLevel  0.259940       50\n6   ElectricDevices     EthanolLevel  0.255975      100\n81      Earthquakes     EthanolLevel  0.254974       50\n96      Earthquakes     EthanolLevel  0.254971     1000\n56          Phoneme     EthanolLevel  0.254971     1000\n46          Phoneme     EthanolLevel  0.253973      100\n21     EthanolLevel     EthanolLevel  0.253970       50\n51          Phoneme     EthanolLevel  0.252966      500\n76          ECG5000     EthanolLevel  0.250985     1000\n26     EthanolLevel     EthanolLevel  0.248995      100\n66          ECG5000     EthanolLevel  0.248986      100\n86      Earthquakes     EthanolLevel  0.248008      100\n41          Phoneme     EthanolLevel  0.247013       50\n71          ECG5000     EthanolLevel  0.245008      500\n31     EthanolLevel     EthanolLevel  0.244019      500\n91      Earthquakes     EthanolLevel  0.244019      500\n16  ElectricDevices     EthanolLevel  0.243018     1000\n61          ECG5000     EthanolLevel  0.237039       50\n17  ElectricDevices          Phoneme  0.235543     1000\n36     EthanolLevel     EthanolLevel  0.235055     1000\n72          ECG5000          Phoneme  0.225590      500\n12  ElectricDevices          Phoneme  0.221324      500\n92      Earthquakes          Phoneme  0.188151      500\n7   ElectricDevices          Phoneme  0.186252      100\n82      Earthquakes          Phoneme  0.185309       50\n62          ECG5000          Phoneme  0.183410       50\n77          ECG5000          Phoneme  0.181991     1000\n87      Earthquakes          Phoneme  0.177250      100\n2   ElectricDevices          Phoneme  0.176774       50\n67          ECG5000          Phoneme  0.175353      100\n32     EthanolLevel          Phoneme  0.172513      500\n22     EthanolLevel          Phoneme  0.171562       50\n37     EthanolLevel          Phoneme  0.169665     1000\n27     EthanolLevel          Phoneme  0.169193      100\n97      Earthquakes          Phoneme  0.169192     1000",
      "text/html": "<div>\n<style scoped>\n    .dataframe tbody tr th:only-of-type {\n        vertical-align: middle;\n    }\n\n    .dataframe tbody tr th {\n        vertical-align: top;\n    }\n\n    .dataframe thead th {\n        text-align: right;\n    }\n</style>\n<table border=\"1\" class=\"dataframe\">\n  <thead>\n    <tr style=\"text-align: right;\">\n      <th></th>\n      <th>train_dataset</th>\n      <th>test_dataset</th>\n      <th>accuracy</th>\n      <th>samples</th>\n    </tr>\n  </thead>\n  <tbody>\n    <tr>\n      <th>48</th>\n      <td>Phoneme</td>\n      <td>ECG5000</td>\n      <td>0.938401</td>\n      <td>100</td>\n    </tr>\n    <tr>\n      <th>58</th>\n      <td>Phoneme</td>\n      <td>ECG5000</td>\n      <td>0.938200</td>\n      <td>1000</td>\n    </tr>\n    <tr>\n      <th>73</th>\n      <td>ECG5000</td>\n      <td>ECG5000</td>\n      <td>0.937001</td>\n      <td>500</td>\n    </tr>\n    <tr>\n      <th>43</th>\n      <td>Phoneme</td>\n      <td>ECG5000</td>\n      <td>0.937000</td>\n      <td>50</td>\n    </tr>\n    <tr>\n      <th>53</th>\n      <td>Phoneme</td>\n      <td>ECG5000</td>\n      <td>0.936400</td>\n      <td>500</td>\n    </tr>\n    <tr>\n      <th>78</th>\n      <td>ECG5000</td>\n      <td>ECG5000</td>\n      <td>0.929201</td>\n      <td>1000</td>\n    </tr>\n    <tr>\n      <th>63</th>\n      <td>ECG5000</td>\n      <td>ECG5000</td>\n      <td>0.928200</td>\n      <td>50</td>\n    </tr>\n    <tr>\n      <th>13</th>\n      <td>ElectricDevices</td>\n      <td>ECG5000</td>\n      <td>0.927201</td>\n      <td>500</td>\n    </tr>\n    <tr>\n      <th>18</th>\n      <td>ElectricDevices</td>\n      <td>ECG5000</td>\n      <td>0.926600</td>\n      <td>1000</td>\n    </tr>\n    <tr>\n      <th>68</th>\n      <td>ECG5000</td>\n      <td>ECG5000</td>\n      <td>0.924001</td>\n      <td>100</td>\n    </tr>\n    <tr>\n      <th>33</th>\n      <td>EthanolLevel</td>\n      <td>ECG5000</td>\n      <td>0.920801</td>\n      <td>500</td>\n    </tr>\n    <tr>\n      <th>38</th>\n      <td>EthanolLevel</td>\n      <td>ECG5000</td>\n      <td>0.920800</td>\n      <td>1000</td>\n    </tr>\n    <tr>\n      <th>93</th>\n      <td>Earthquakes</td>\n      <td>ECG5000</td>\n      <td>0.919601</td>\n      <td>500</td>\n    </tr>\n    <tr>\n      <th>28</th>\n      <td>EthanolLevel</td>\n      <td>ECG5000</td>\n      <td>0.919201</td>\n      <td>100</td>\n    </tr>\n    <tr>\n      <th>3</th>\n      <td>ElectricDevices</td>\n      <td>ECG5000</td>\n      <td>0.918801</td>\n      <td>50</td>\n    </tr>\n    <tr>\n      <th>23</th>\n      <td>EthanolLevel</td>\n      <td>ECG5000</td>\n      <td>0.918801</td>\n      <td>50</td>\n    </tr>\n    <tr>\n      <th>8</th>\n      <td>ElectricDevices</td>\n      <td>ECG5000</td>\n      <td>0.917401</td>\n      <td>100</td>\n    </tr>\n    <tr>\n      <th>88</th>\n      <td>Earthquakes</td>\n      <td>ECG5000</td>\n      <td>0.917001</td>\n      <td>100</td>\n    </tr>\n    <tr>\n      <th>98</th>\n      <td>Earthquakes</td>\n      <td>ECG5000</td>\n      <td>0.916201</td>\n      <td>1000</td>\n    </tr>\n    <tr>\n      <th>83</th>\n      <td>Earthquakes</td>\n      <td>ECG5000</td>\n      <td>0.914801</td>\n      <td>50</td>\n    </tr>\n    <tr>\n      <th>29</th>\n      <td>EthanolLevel</td>\n      <td>Earthquakes</td>\n      <td>0.798263</td>\n      <td>100</td>\n    </tr>\n    <tr>\n      <th>64</th>\n      <td>ECG5000</td>\n      <td>Earthquakes</td>\n      <td>0.798263</td>\n      <td>50</td>\n    </tr>\n    <tr>\n      <th>99</th>\n      <td>Earthquakes</td>\n      <td>Earthquakes</td>\n      <td>0.798263</td>\n      <td>1000</td>\n    </tr>\n    <tr>\n      <th>59</th>\n      <td>Phoneme</td>\n      <td>Earthquakes</td>\n      <td>0.798263</td>\n      <td>1000</td>\n    </tr>\n    <tr>\n      <th>34</th>\n      <td>EthanolLevel</td>\n      <td>Earthquakes</td>\n      <td>0.798263</td>\n      <td>500</td>\n    </tr>\n    <tr>\n      <th>39</th>\n      <td>EthanolLevel</td>\n      <td>Earthquakes</td>\n      <td>0.798263</td>\n      <td>1000</td>\n    </tr>\n    <tr>\n      <th>49</th>\n      <td>Phoneme</td>\n      <td>Earthquakes</td>\n      <td>0.798263</td>\n      <td>100</td>\n    </tr>\n    <tr>\n      <th>54</th>\n      <td>Phoneme</td>\n      <td>Earthquakes</td>\n      <td>0.798263</td>\n      <td>500</td>\n    </tr>\n    <tr>\n      <th>74</th>\n      <td>ECG5000</td>\n      <td>Earthquakes</td>\n      <td>0.798263</td>\n      <td>500</td>\n    </tr>\n    <tr>\n      <th>69</th>\n      <td>ECG5000</td>\n      <td>Earthquakes</td>\n      <td>0.798263</td>\n      <td>100</td>\n    </tr>\n    <tr>\n      <th>24</th>\n      <td>EthanolLevel</td>\n      <td>Earthquakes</td>\n      <td>0.798263</td>\n      <td>50</td>\n    </tr>\n    <tr>\n      <th>79</th>\n      <td>ECG5000</td>\n      <td>Earthquakes</td>\n      <td>0.798263</td>\n      <td>1000</td>\n    </tr>\n    <tr>\n      <th>19</th>\n      <td>ElectricDevices</td>\n      <td>Earthquakes</td>\n      <td>0.798263</td>\n      <td>1000</td>\n    </tr>\n    <tr>\n      <th>84</th>\n      <td>Earthquakes</td>\n      <td>Earthquakes</td>\n      <td>0.798263</td>\n      <td>50</td>\n    </tr>\n    <tr>\n      <th>14</th>\n      <td>ElectricDevices</td>\n      <td>Earthquakes</td>\n      <td>0.798263</td>\n      <td>500</td>\n    </tr>\n    <tr>\n      <th>89</th>\n      <td>Earthquakes</td>\n      <td>Earthquakes</td>\n      <td>0.798263</td>\n      <td>100</td>\n    </tr>\n    <tr>\n      <th>9</th>\n      <td>ElectricDevices</td>\n      <td>Earthquakes</td>\n      <td>0.798263</td>\n      <td>100</td>\n    </tr>\n    <tr>\n      <th>94</th>\n      <td>Earthquakes</td>\n      <td>Earthquakes</td>\n      <td>0.798263</td>\n      <td>500</td>\n    </tr>\n    <tr>\n      <th>4</th>\n      <td>ElectricDevices</td>\n      <td>Earthquakes</td>\n      <td>0.798263</td>\n      <td>50</td>\n    </tr>\n    <tr>\n      <th>44</th>\n      <td>Phoneme</td>\n      <td>Earthquakes</td>\n      <td>0.798263</td>\n      <td>50</td>\n    </tr>\n    <tr>\n      <th>15</th>\n      <td>ElectricDevices</td>\n      <td>ElectricDevices</td>\n      <td>0.768228</td>\n      <td>1000</td>\n    </tr>\n    <tr>\n      <th>10</th>\n      <td>ElectricDevices</td>\n      <td>ElectricDevices</td>\n      <td>0.762338</td>\n      <td>500</td>\n    </tr>\n    <tr>\n      <th>45</th>\n      <td>Phoneme</td>\n      <td>ElectricDevices</td>\n      <td>0.756808</td>\n      <td>100</td>\n    </tr>\n    <tr>\n      <th>5</th>\n      <td>ElectricDevices</td>\n      <td>ElectricDevices</td>\n      <td>0.753261</td>\n      <td>100</td>\n    </tr>\n    <tr>\n      <th>55</th>\n      <td>Phoneme</td>\n      <td>ElectricDevices</td>\n      <td>0.752000</td>\n      <td>1000</td>\n    </tr>\n    <tr>\n      <th>0</th>\n      <td>ElectricDevices</td>\n      <td>ElectricDevices</td>\n      <td>0.750557</td>\n      <td>50</td>\n    </tr>\n    <tr>\n      <th>50</th>\n      <td>Phoneme</td>\n      <td>ElectricDevices</td>\n      <td>0.745388</td>\n      <td>500</td>\n    </tr>\n    <tr>\n      <th>95</th>\n      <td>Earthquakes</td>\n      <td>ElectricDevices</td>\n      <td>0.745328</td>\n      <td>1000</td>\n    </tr>\n    <tr>\n      <th>40</th>\n      <td>Phoneme</td>\n      <td>ElectricDevices</td>\n      <td>0.742322</td>\n      <td>50</td>\n    </tr>\n    <tr>\n      <th>90</th>\n      <td>Earthquakes</td>\n      <td>ElectricDevices</td>\n      <td>0.731202</td>\n      <td>500</td>\n    </tr>\n    <tr>\n      <th>70</th>\n      <td>ECG5000</td>\n      <td>ElectricDevices</td>\n      <td>0.715214</td>\n      <td>500</td>\n    </tr>\n    <tr>\n      <th>85</th>\n      <td>Earthquakes</td>\n      <td>ElectricDevices</td>\n      <td>0.700305</td>\n      <td>100</td>\n    </tr>\n    <tr>\n      <th>80</th>\n      <td>Earthquakes</td>\n      <td>ElectricDevices</td>\n      <td>0.696338</td>\n      <td>50</td>\n    </tr>\n    <tr>\n      <th>60</th>\n      <td>ECG5000</td>\n      <td>ElectricDevices</td>\n      <td>0.660394</td>\n      <td>50</td>\n    </tr>\n    <tr>\n      <th>20</th>\n      <td>EthanolLevel</td>\n      <td>ElectricDevices</td>\n      <td>0.657870</td>\n      <td>50</td>\n    </tr>\n    <tr>\n      <th>65</th>\n      <td>ECG5000</td>\n      <td>ElectricDevices</td>\n      <td>0.653902</td>\n      <td>100</td>\n    </tr>\n    <tr>\n      <th>75</th>\n      <td>ECG5000</td>\n      <td>ElectricDevices</td>\n      <td>0.642543</td>\n      <td>1000</td>\n    </tr>\n    <tr>\n      <th>30</th>\n      <td>EthanolLevel</td>\n      <td>ElectricDevices</td>\n      <td>0.642423</td>\n      <td>500</td>\n    </tr>\n    <tr>\n      <th>35</th>\n      <td>EthanolLevel</td>\n      <td>ElectricDevices</td>\n      <td>0.626313</td>\n      <td>1000</td>\n    </tr>\n    <tr>\n      <th>25</th>\n      <td>EthanolLevel</td>\n      <td>ElectricDevices</td>\n      <td>0.603352</td>\n      <td>100</td>\n    </tr>\n    <tr>\n      <th>47</th>\n      <td>Phoneme</td>\n      <td>Phoneme</td>\n      <td>0.311371</td>\n      <td>100</td>\n    </tr>\n    <tr>\n      <th>57</th>\n      <td>Phoneme</td>\n      <td>Phoneme</td>\n      <td>0.292890</td>\n      <td>1000</td>\n    </tr>\n    <tr>\n      <th>42</th>\n      <td>Phoneme</td>\n      <td>Phoneme</td>\n      <td>0.281043</td>\n      <td>50</td>\n    </tr>\n    <tr>\n      <th>52</th>\n      <td>Phoneme</td>\n      <td>Phoneme</td>\n      <td>0.272978</td>\n      <td>500</td>\n    </tr>\n    <tr>\n      <th>11</th>\n      <td>ElectricDevices</td>\n      <td>EthanolLevel</td>\n      <td>0.262919</td>\n      <td>500</td>\n    </tr>\n    <tr>\n      <th>1</th>\n      <td>ElectricDevices</td>\n      <td>EthanolLevel</td>\n      <td>0.259940</td>\n      <td>50</td>\n    </tr>\n    <tr>\n      <th>6</th>\n      <td>ElectricDevices</td>\n      <td>EthanolLevel</td>\n      <td>0.255975</td>\n      <td>100</td>\n    </tr>\n    <tr>\n      <th>81</th>\n      <td>Earthquakes</td>\n      <td>EthanolLevel</td>\n      <td>0.254974</td>\n      <td>50</td>\n    </tr>\n    <tr>\n      <th>96</th>\n      <td>Earthquakes</td>\n      <td>EthanolLevel</td>\n      <td>0.254971</td>\n      <td>1000</td>\n    </tr>\n    <tr>\n      <th>56</th>\n      <td>Phoneme</td>\n      <td>EthanolLevel</td>\n      <td>0.254971</td>\n      <td>1000</td>\n    </tr>\n    <tr>\n      <th>46</th>\n      <td>Phoneme</td>\n      <td>EthanolLevel</td>\n      <td>0.253973</td>\n      <td>100</td>\n    </tr>\n    <tr>\n      <th>21</th>\n      <td>EthanolLevel</td>\n      <td>EthanolLevel</td>\n      <td>0.253970</td>\n      <td>50</td>\n    </tr>\n    <tr>\n      <th>51</th>\n      <td>Phoneme</td>\n      <td>EthanolLevel</td>\n      <td>0.252966</td>\n      <td>500</td>\n    </tr>\n    <tr>\n      <th>76</th>\n      <td>ECG5000</td>\n      <td>EthanolLevel</td>\n      <td>0.250985</td>\n      <td>1000</td>\n    </tr>\n    <tr>\n      <th>26</th>\n      <td>EthanolLevel</td>\n      <td>EthanolLevel</td>\n      <td>0.248995</td>\n      <td>100</td>\n    </tr>\n    <tr>\n      <th>66</th>\n      <td>ECG5000</td>\n      <td>EthanolLevel</td>\n      <td>0.248986</td>\n      <td>100</td>\n    </tr>\n    <tr>\n      <th>86</th>\n      <td>Earthquakes</td>\n      <td>EthanolLevel</td>\n      <td>0.248008</td>\n      <td>100</td>\n    </tr>\n    <tr>\n      <th>41</th>\n      <td>Phoneme</td>\n      <td>EthanolLevel</td>\n      <td>0.247013</td>\n      <td>50</td>\n    </tr>\n    <tr>\n      <th>71</th>\n      <td>ECG5000</td>\n      <td>EthanolLevel</td>\n      <td>0.245008</td>\n      <td>500</td>\n    </tr>\n    <tr>\n      <th>31</th>\n      <td>EthanolLevel</td>\n      <td>EthanolLevel</td>\n      <td>0.244019</td>\n      <td>500</td>\n    </tr>\n    <tr>\n      <th>91</th>\n      <td>Earthquakes</td>\n      <td>EthanolLevel</td>\n      <td>0.244019</td>\n      <td>500</td>\n    </tr>\n    <tr>\n      <th>16</th>\n      <td>ElectricDevices</td>\n      <td>EthanolLevel</td>\n      <td>0.243018</td>\n      <td>1000</td>\n    </tr>\n    <tr>\n      <th>61</th>\n      <td>ECG5000</td>\n      <td>EthanolLevel</td>\n      <td>0.237039</td>\n      <td>50</td>\n    </tr>\n    <tr>\n      <th>17</th>\n      <td>ElectricDevices</td>\n      <td>Phoneme</td>\n      <td>0.235543</td>\n      <td>1000</td>\n    </tr>\n    <tr>\n      <th>36</th>\n      <td>EthanolLevel</td>\n      <td>EthanolLevel</td>\n      <td>0.235055</td>\n      <td>1000</td>\n    </tr>\n    <tr>\n      <th>72</th>\n      <td>ECG5000</td>\n      <td>Phoneme</td>\n      <td>0.225590</td>\n      <td>500</td>\n    </tr>\n    <tr>\n      <th>12</th>\n      <td>ElectricDevices</td>\n      <td>Phoneme</td>\n      <td>0.221324</td>\n      <td>500</td>\n    </tr>\n    <tr>\n      <th>92</th>\n      <td>Earthquakes</td>\n      <td>Phoneme</td>\n      <td>0.188151</td>\n      <td>500</td>\n    </tr>\n    <tr>\n      <th>7</th>\n      <td>ElectricDevices</td>\n      <td>Phoneme</td>\n      <td>0.186252</td>\n      <td>100</td>\n    </tr>\n    <tr>\n      <th>82</th>\n      <td>Earthquakes</td>\n      <td>Phoneme</td>\n      <td>0.185309</td>\n      <td>50</td>\n    </tr>\n    <tr>\n      <th>62</th>\n      <td>ECG5000</td>\n      <td>Phoneme</td>\n      <td>0.183410</td>\n      <td>50</td>\n    </tr>\n    <tr>\n      <th>77</th>\n      <td>ECG5000</td>\n      <td>Phoneme</td>\n      <td>0.181991</td>\n      <td>1000</td>\n    </tr>\n    <tr>\n      <th>87</th>\n      <td>Earthquakes</td>\n      <td>Phoneme</td>\n      <td>0.177250</td>\n      <td>100</td>\n    </tr>\n    <tr>\n      <th>2</th>\n      <td>ElectricDevices</td>\n      <td>Phoneme</td>\n      <td>0.176774</td>\n      <td>50</td>\n    </tr>\n    <tr>\n      <th>67</th>\n      <td>ECG5000</td>\n      <td>Phoneme</td>\n      <td>0.175353</td>\n      <td>100</td>\n    </tr>\n    <tr>\n      <th>32</th>\n      <td>EthanolLevel</td>\n      <td>Phoneme</td>\n      <td>0.172513</td>\n      <td>500</td>\n    </tr>\n    <tr>\n      <th>22</th>\n      <td>EthanolLevel</td>\n      <td>Phoneme</td>\n      <td>0.171562</td>\n      <td>50</td>\n    </tr>\n    <tr>\n      <th>37</th>\n      <td>EthanolLevel</td>\n      <td>Phoneme</td>\n      <td>0.169665</td>\n      <td>1000</td>\n    </tr>\n    <tr>\n      <th>27</th>\n      <td>EthanolLevel</td>\n      <td>Phoneme</td>\n      <td>0.169193</td>\n      <td>100</td>\n    </tr>\n    <tr>\n      <th>97</th>\n      <td>Earthquakes</td>\n      <td>Phoneme</td>\n      <td>0.169192</td>\n      <td>1000</td>\n    </tr>\n  </tbody>\n</table>\n</div>"
     },
     "execution_count": 47,
     "metadata": {},
     "output_type": "execute_result"
    }
   ],
   "source": [
    "# Compare"
   ],
   "metadata": {
    "collapsed": false,
    "pycharm": {
     "name": "#%%\n"
    }
   }
  },
  {
   "cell_type": "code",
   "execution_count": 50,
   "outputs": [
    {
     "name": "stdout",
     "output_type": "stream",
     "text": [
      "{'ElectricDevices': 0.019084937094876527, 'EthanolLevel': -0.005443499968885056, 'Phoneme': 0.0006735136948993183, 'ECG5000': 0.004212358540197074, 'Earthquakes': 0.011224891076314952}\n"
     ]
    }
   ],
   "source": [
    "corrs = {}\n",
    "for d in df['train_dataset'].unique():\n",
    "    v = df.loc[df['train_dataset'] == d]\n",
    "    corrs[d] = v.corr()['samples']['accuracy']\n",
    "\n",
    "print(corrs)"
   ],
   "metadata": {
    "collapsed": false,
    "pycharm": {
     "name": "#%%\n"
    }
   }
  },
  {
   "cell_type": "code",
   "execution_count": 49,
   "outputs": [
    {
     "data": {
      "text/plain": "0.00601062525968641"
     },
     "execution_count": 49,
     "metadata": {},
     "output_type": "execute_result"
    }
   ],
   "source": [
    "df.corr()['samples']['accuracy']"
   ],
   "metadata": {
    "collapsed": false,
    "pycharm": {
     "name": "#%%\n"
    }
   }
  },
  {
   "cell_type": "code",
   "execution_count": 42,
   "outputs": [
    {
     "data": {
      "text/plain": "<Figure size 432x288 with 1 Axes>",
      "image/png": "[encoded data removed]"
     },
     "metadata": {
      "needs_background": "light"
     },
     "output_type": "display_data"
    }
   ],
   "source": [
    "for ds in df['train_dataset'].unique():\n",
    "    plt.clf()\n",
    "    x = get_dataset(ds)[0][0][0, :]\n",
    "    ax = sns.lineplot(x=np.arange(len(x)), y=x)\n",
    "    ax.set_title(ds)\n",
    "    plt.savefig(f'data/imgs/{ds}_sample.png')"
   ],
   "metadata": {
    "collapsed": false,
    "pycharm": {
     "name": "#%%\n"
    }
   }
  },
  {
   "cell_type": "code",
   "metadata": {
    "id": "Fk4EokZtKu-f"
   },
   "source": [
    "# Varied diversity\n",
    "test_set_names = ['ElectricDevices', 'EthanolLevel', 'Phoneme', 'ECG5000', 'Earthquakes']\n",
    "diversities = [1, 3, 5, 10, 20, 40]\n",
    "# diversities = [20, 40]\n",
    "# diversities = [1, 3, 10, 20, 40]\n",
    "samples = 500\n",
    "reps = 3\n",
    "\n",
    "metric_functions = [metrics.accuracy_score]\n",
    "metric_functions.append(partial(metrics.precision_score, average='weighted', zero_division=1))\n",
    "metric_functions.append(partial(metrics.recall_score, average='weighted', zero_division=1))\n",
    "metric_functions.append(partial(metrics.f1_score, average='weighted'))\n",
    "\n",
    "metric_names = ['accuracy', 'precision', 'recall', 'f1']\n",
    "\n",
    "metric_dict = dict(zip(metric_names, metric_functions))\n",
    "\n",
    "results_diversity_df = pd.DataFrame(columns=['diversity', 'samples', 'train_time', 'test_dataset'] + metric_names)\n",
    "# results_diversity_df = pd.read_csv(os.path.join(drive_base, 'TDM/cnn_encoder_diversity.csv'))\n",
    "\n",
    "for diversity in diversities:\n",
    "  for rep in range(reps):\n",
    "    try:\n",
    "      X, _, _ = build_mixed_dataset(samples, diversity=diversity)\n",
    "\n",
    "      # Train encoder\n",
    "      cnn_encoder = CausalCNNEncoderClassifier(nb_random_samples=5,\n",
    "                                              depth=10,\n",
    "                                              channels=40,\n",
    "                                              out_channels=160,\n",
    "                                              reduced_size=320,\n",
    "                                              nb_steps=1500,\n",
    "                                              batch_size=16,\n",
    "                                              kernel_size=3,\n",
    "                                              cuda=True)\n",
    "      \n",
    "      start = time.time()\n",
    "      cnn_encoder.fit_encoder(X)\n",
    "      end = time.time()\n",
    "\n",
    "      train_time = end - start\n",
    "\n",
    "      cnn_encoder.save_encoder(os.path.join(drive_base, f'TDM/models/{diversity}-{samples}'))\n",
    "\n",
    "      # Test\n",
    "      cls = SVC()\n",
    "\n",
    "      for d_name in test_set_names:\n",
    "        results = {m_name: [] for m_name in metric_names}\n",
    "        results['test_dataset'] = d_name\n",
    "        results['diversity'] = diversity\n",
    "        results['samples'] = samples\n",
    "        results['train_time'] = train_time\n",
    "\n",
    "        X_full, y_full = get_dataset(d_name)\n",
    "        representations = np.nan_to_num(cnn_encoder.encode(X_full))\n",
    "\n",
    "        cv = StratifiedKFold(n_splits=3)\n",
    "        for train_split, test_split in cv.split(representations, y_full):\n",
    "          X_train, y_train = representations[train_split], y_full[train_split]\n",
    "          X_test, y_test = representations[test_split], y_full[test_split]\n",
    "\n",
    "          cls.fit(X_train, y_train)\n",
    "          pred = cls.predict(X_test)\n",
    "\n",
    "          for m_name, f in metric_dict.items():\n",
    "            results[m_name].append(f(y_test, pred))\n",
    "    \n",
    "        for m_name in metric_names:\n",
    "          results[m_name] = np.mean(results[m_name])\n",
    "\n",
    "        print('Results:')\n",
    "        print(results)\n",
    "\n",
    "        results_diversity_df = results_diversity_df.append(results, ignore_index=True)\n",
    "        results_diversity_df.to_csv(os.path.join(drive_base, 'TDM/cnn_encoder_diversity.csv'))\n",
    "    except Exception as e:\n",
    "      print(e)"
   ],
   "execution_count": null,
   "outputs": []
  },
  {
   "cell_type": "code",
   "metadata": {
    "pycharm": {
     "name": "#%%\n"
    },
    "id": "k2ZcFuuXxEjR"
   },
   "source": [
    "# TimeNet varying size\n",
    "sample_sizes = [50, 100, 500, 1000]\n",
    "dataset_names = ['ElectricDevices', 'EthanolLevel', 'Phoneme', 'ECG5000', 'Earthquakes']\n",
    "\n",
    "metric_functions = [metrics.accuracy_score]\n",
    "metric_functions.append(partial(metrics.precision_score, average='weighted', zero_division=1))\n",
    "metric_functions.append(partial(metrics.recall_score, average='weighted', zero_division=1))\n",
    "metric_functions.append(partial(metrics.f1_score, average='weighted'))\n",
    "\n",
    "metric_names = ['accuracy', 'precision', 'recall', 'f1']\n",
    "\n",
    "metric_dict = dict(zip(metric_names, metric_functions))\n",
    "\n",
    "results_tn_df = pd.DataFrame(columns=['train_dataset', 'test_dataset', 'samples', 'train_time'] + metric_names)\n",
    "\n",
    "for dataset_name in dataset_names:\n",
    "  for size in sample_sizes:\n",
    "    X, y = build_sampled_dataset(dataset_name, size)\n",
    "\n",
    "    # Train encoder\n",
    "    timenet = TimeNet(size=60, \n",
    "                      num_layers=3,\n",
    "                      dropout=0.4)\n",
    "    \n",
    "    gen = SimpleSeriesGenerator(X)\n",
    "\n",
    "    start = time.time()\n",
    "    timenet.train(gen, nb_epoch=20)\n",
    "    end = time.time()\n",
    "\n",
    "    train_time = end - start\n",
    "\n",
    "    # Test\n",
    "    cls = SVC()\n",
    "    \n",
    "    for d_name in dataset_names:\n",
    "      results = {m_name: [] for m_name in metric_names}\n",
    "      results['train_dataset'] = dataset_name\n",
    "      results['test_dataset'] = d_name\n",
    "      results['samples'] = size\n",
    "      results['train_time'] = train_time\n",
    "\n",
    "      X_full, y_full = get_dataset(d_name)\n",
    "      t_gen = SimpleSeriesGenerator(X_full)\n",
    "      representations = timenet.encode(t_gen)\n",
    "\n",
    "      cv = StratifiedKFold(n_splits=3)\n",
    "      for train_split, test_split in cv.split(representations, y_full):\n",
    "        X_train, y_train = representations[train_split], y_full[train_split]\n",
    "        X_test, y_test = representations[test_split], y_full[test_split]\n",
    "\n",
    "        cls.fit(X_train, y_train)\n",
    "        pred = cls.predict(X_test)\n",
    "\n",
    "        for m_name, f in metric_dict.items():\n",
    "          results[m_name].append(f(y_test, pred))\n",
    "      \n",
    "      for m_name in metric_names:\n",
    "        results[m_name] = np.mean(results[m_name])\n",
    "\n",
    "      print('Results:')\n",
    "      print(results)\n",
    "\n",
    "      results_tn_df = results_df.append(results, ignore_index=True)\n",
    "      results_tn_df.to_csv(os.path.join(drive_base, 'TDM/timenet_varied_size.csv'))"
   ],
   "execution_count": null,
   "outputs": []
  },
  {
   "cell_type": "code",
   "metadata": {
    "id": "Ll_Y130NP_Np"
   },
   "source": [
    "# Varied diversity\n",
    "test_set_names = ['ElectricDevices', 'EthanolLevel', 'Phoneme', 'ECG5000', 'Earthquakes']\n",
    "diversities = [1, 3, 5, 10, 20, 40]\n",
    "samples = 500\n",
    "reps = 3\n",
    "\n",
    "metric_functions = [metrics.accuracy_score]\n",
    "metric_functions.append(partial(metrics.precision_score, average='weighted', zero_division=1))\n",
    "metric_functions.append(partial(metrics.recall_score, average='weighted', zero_division=1))\n",
    "metric_functions.append(partial(metrics.f1_score, average='weighted'))\n",
    "\n",
    "metric_names = ['accuracy', 'precision', 'recall', 'f1']\n",
    "\n",
    "metric_dict = dict(zip(metric_names, metric_functions))\n",
    "\n",
    "results_tn_diversity_df = pd.DataFrame(columns=['diversity', 'smples', 'train_time', 'test_dataset'] + metric_names)\n",
    "\n",
    "for diversity in diversities:\n",
    "  for rep in range(reps):\n",
    "    try:\n",
    "      X, _, _ = build_mixed_dataset(samples, diversity=diversity)\n",
    "\n",
    "      # Train encoder\n",
    "      timenet = TimeNet(size=60, \n",
    "                      num_layers=3,\n",
    "                      dropout=0.4)\n",
    "    \n",
    "      gen = SimpleSeriesGenerator(X)\n",
    "      \n",
    "      start = time.time()\n",
    "      timenet.train(gen)\n",
    "      end = time.time()\n",
    "\n",
    "      train_time = end - start\n",
    "\n",
    "      # Test\n",
    "      cls = SVC()\n",
    "\n",
    "      for d_name in test_set_names:\n",
    "        results = {m_name: [] for m_name in metric_names}\n",
    "        results['test_dataset'] = d_name\n",
    "        results['diversity'] = diversity\n",
    "        results['samples'] = samples\n",
    "        results['train_time'] = train_time\n",
    "\n",
    "        X_full, y_full = get_dataset(d_name)\n",
    "        representations = np.nan_to_num(timenet.encode(X_full))\n",
    "\n",
    "        cv = StratifiedKFold(n_splits=3)\n",
    "        for train_split, test_split in cv.split(representations, y_full):\n",
    "          X_train, y_train = representations[train_split], y_full[train_split]\n",
    "          X_test, y_test = representations[test_split], y_full[test_split]\n",
    "\n",
    "          cls.fit(X_train, y_train)\n",
    "          pred = cls.predict(X_test)\n",
    "\n",
    "          for m_name, f in metric_dict.items():\n",
    "            results[m_name].append(f(y_test, pred))\n",
    "    \n",
    "        for m_name in metric_names:\n",
    "          results[m_name] = np.mean(results[m_name])\n",
    "\n",
    "        print('Results:')\n",
    "        print(results)\n",
    "\n",
    "        results_tn_diversity_df = results_tn_diversity_df.append(results, ignore_index=True)\n",
    "        results_tn_diversity_df.to_csv(os.path.join(drive_base, 'TDM/timenet_diversity.csv'))\n",
    "    except Exception as e:\n",
    "      print(e)"
   ],
   "execution_count": null,
   "outputs": []
  },
  {
   "cell_type": "code",
   "metadata": {
    "pycharm": {
     "name": "#%%\n"
    },
    "id": "wbIl2zoOxEjR"
   },
   "source": [
    "# Compare"
   ],
   "execution_count": null,
   "outputs": []
  },
  {
   "cell_type": "markdown",
   "metadata": {
    "collapsed": false,
    "pycharm": {
     "name": "#%% md\n"
    },
    "id": "-A1JXTu9xEjR"
   },
   "source": [
    "### MatrixProfile on PTSD FMRI data"
   ]
  },
  {
   "cell_type": "code",
   "metadata": {
    "pycharm": {
     "name": "#%%\n"
    },
    "id": "V3yAiUncxEjR"
   },
   "source": [
    "df_train = pd.read_excel('data/train_data_age_matched_split.xlsx')\n",
    "df_test = pd.read_excel('data/test_data_age_matched_split.xlsx')"
   ],
   "execution_count": null,
   "outputs": []
  },
  {
   "cell_type": "code",
   "metadata": {
    "pycharm": {
     "name": "#%%\n"
    },
    "id": "BlSJOY6kxEjR"
   },
   "source": [
    "X_train = df_train.loc[1:, ~df_train.columns.isin(['SpotID', 'Paths'])].to_numpy().T\n",
    "y_train = df_train.loc[0, ~df_train.columns.isin(['SpotID', 'Paths'])].to_numpy()\n",
    "\n",
    "X_test = df_test.loc[1:, ~df_test.columns.isin(['SpotID', 'Paths'])].to_numpy().T\n",
    "y_test = df_test.loc[0, ~df_test.columns.isin(['SpotID', 'Paths'])].to_numpy()"
   ],
   "execution_count": null,
   "outputs": []
  },
  {
   "cell_type": "code",
   "metadata": {
    "pycharm": {
     "name": "#%%\n"
    },
    "id": "2_INqmWPxEjR"
   },
   "source": [
    "plt.figure(figsize=(20, 5))\n",
    "profile, figures = mp.analyze(X_train[-1])"
   ],
   "execution_count": null,
   "outputs": []
  }
 ]
}